{
 "cells": [
  {
   "cell_type": "code",
   "execution_count": 48,
   "metadata": {},
   "outputs": [
    {
     "data": {
      "text/html": [
       "        <script type=\"text/javascript\">\n",
       "        window.PlotlyConfig = {MathJaxConfig: 'local'};\n",
       "        if (window.MathJax && window.MathJax.Hub && window.MathJax.Hub.Config) {window.MathJax.Hub.Config({SVG: {font: \"STIX-Web\"}});}\n",
       "        if (typeof require !== 'undefined') {\n",
       "        require.undef(\"plotly\");\n",
       "        requirejs.config({\n",
       "            paths: {\n",
       "                'plotly': ['https://cdn.plot.ly/plotly-2.20.0.min']\n",
       "            }\n",
       "        });\n",
       "        require(['plotly'], function(Plotly) {\n",
       "            window._Plotly = Plotly;\n",
       "        });\n",
       "        }\n",
       "        </script>\n",
       "        "
      ]
     },
     "metadata": {},
     "output_type": "display_data"
    }
   ],
   "source": [
    "import os\n",
    "\n",
    "import pandas as pd\n",
    "import numpy as np\n",
    "import seaborn as sns\n",
    "import pickle\n",
    "import matplotlib.pyplot as plt\n",
    "%matplotlib inline\n",
    "\n",
    "# import statements for plotly\n",
    "import plotly.offline as py\n",
    "py.init_notebook_mode(connected=True)\n",
    "import plotly.graph_objects as go\n",
    "import plotly.tools as tls\n",
    "# import warnings and supress it\n",
    "import warnings\n",
    "warnings.filterwarnings(\"ignore\")\n",
    "\n",
    "from sklearn.model_selection import train_test_split\n",
    "from sklearn.preprocessing import LabelEncoder, StandardScaler, MinMaxScaler, OneHotEncoder, OrdinalEncoder\n",
    "from category_encoders import TargetEncoder, LeaveOneOutEncoder, WOEEncoder\n",
    "from sklearn.compose import ColumnTransformer\n",
    "from sklearn.pipeline import make_pipeline, Pipeline\n",
    "from sklearn.impute import SimpleImputer\n",
    "\n",
    "import configparser"
   ]
  },
  {
   "cell_type": "markdown",
   "metadata": {},
   "source": [
    "# Access Config"
   ]
  },
  {
   "cell_type": "code",
   "execution_count": 49,
   "metadata": {},
   "outputs": [
    {
     "data": {
      "text/plain": [
       "['./notebooks_config.ini']"
      ]
     },
     "execution_count": 49,
     "metadata": {},
     "output_type": "execute_result"
    }
   ],
   "source": [
    "config = configparser.ConfigParser()\n",
    "config.read(\"./notebooks_config.ini\")"
   ]
  },
  {
   "cell_type": "markdown",
   "metadata": {},
   "source": [
    "# Access Data"
   ]
  },
  {
   "cell_type": "code",
   "execution_count": 3,
   "metadata": {},
   "outputs": [],
   "source": [
    "data = pd.read_parquet(config['PATH']['RAW_DATA_PATH'])"
   ]
  },
  {
   "cell_type": "markdown",
   "metadata": {},
   "source": [
    "# DATA TRASFORMATIONS"
   ]
  },
  {
   "cell_type": "code",
   "execution_count": 4,
   "metadata": {},
   "outputs": [],
   "source": [
    "# Change column name to lower\n",
    "data.columns = [col.lower() for col in data.columns]\n",
    "# Drop `over18`, `employeecount`, `standardhours`, `employeenumber` columns\n",
    "data.drop(['over18','employeecount', 'standardhours', 'employeenumber'], axis=\"columns\", inplace=True)"
   ]
  },
  {
   "attachments": {},
   "cell_type": "markdown",
   "metadata": {},
   "source": [
    "## 1. SAVE INTERIM Data"
   ]
  },
  {
   "cell_type": "code",
   "execution_count": 5,
   "metadata": {},
   "outputs": [],
   "source": [
    "interim_data_path = os.path.join(config['PATH']['INTERIM_DATA_PATH'], \"interim_data.parquet\")\n",
    "data.to_parquet(interim_data_path, index=False)"
   ]
  },
  {
   "cell_type": "markdown",
   "metadata": {},
   "source": [
    "# CHOOSE CATEGORICAL AND NUMERICAL DATA"
   ]
  },
  {
   "cell_type": "code",
   "execution_count": 6,
   "metadata": {},
   "outputs": [],
   "source": [
    "categorical_columns = ['businesstravel','department', 'education', 'environmentsatisfaction','educationfield','gender','jobrole', 'jobinvolvement', 'joblevel','maritalstatus', 'jobsatisfaction','overtime', 'performancerating', 'relationshipsatisfaction', 'stockoptionlevel', 'trainingtimeslastyear', 'worklifebalance']\n",
    "numerical_columns = ['age','dailyrate','distancefromhome', 'hourlyrate', 'monthlyincome', 'monthlyrate','percentsalaryhike', 'numcompaniesworked', 'totalworkingyears', 'yearsatcompany', 'yearsincurrentrole', 'yearssincelastpromotion', 'yearswithcurrmanager']\n",
    "target_colummns = [\"attrition\"]"
   ]
  },
  {
   "cell_type": "markdown",
   "metadata": {},
   "source": [
    "# SPLIT DATA INTO TRAIN AND TEST"
   ]
  },
  {
   "attachments": {},
   "cell_type": "markdown",
   "metadata": {},
   "source": [
    "## 1. Read Interim Data"
   ]
  },
  {
   "cell_type": "code",
   "execution_count": 7,
   "metadata": {},
   "outputs": [],
   "source": [
    "data = pd.read_parquet(config['PATH']['INTERIM_DATA_PATH'])"
   ]
  },
  {
   "cell_type": "markdown",
   "metadata": {},
   "source": [
    "## 2. Choose Relevant Columns"
   ]
  },
  {
   "cell_type": "code",
   "execution_count": 8,
   "metadata": {},
   "outputs": [],
   "source": [
    "X = data[numerical_columns + categorical_columns]\n",
    "y = data[target_colummns]"
   ]
  },
  {
   "cell_type": "markdown",
   "metadata": {},
   "source": [
    "# SPLIT THE DATA INTO TRAIN AND TEST"
   ]
  },
  {
   "cell_type": "code",
   "execution_count": 9,
   "metadata": {},
   "outputs": [],
   "source": [
    "split_ration = config.getfloat('ML', 'train_test_split_ratio')\n",
    "X_train, X_test, y_train, y_test = train_test_split(X, y, test_size=split_ration, random_state=42)"
   ]
  },
  {
   "cell_type": "markdown",
   "metadata": {},
   "source": [
    "## Save the Train and Test"
   ]
  },
  {
   "cell_type": "code",
   "execution_count": 10,
   "metadata": {},
   "outputs": [],
   "source": [
    "processed_train_path = config.get('PATH', 'PROCESSED_DATA_PATH')\n",
    "train_path = os.path.join(processed_train_path, \"train\")\n",
    "test_path = os.path.join(processed_train_path, \"test\")\n",
    "\n",
    "os.makedirs(train_path, exist_ok=True)\n",
    "os.makedirs(test_path, exist_ok=True)\n",
    "\n",
    "# Save training\n",
    "X_train.to_parquet(os.path.join(train_path, \"x_train.parquet\"), index=False)\n",
    "y_train.to_parquet(os.path.join(train_path, \"y_train.parquet\"), index=False)\n",
    "\n",
    "# Save testing\n",
    "X_test.to_parquet(os.path.join(test_path, \"x_test.parquet\"), index=False)\n",
    "y_test.to_parquet(os.path.join(test_path, \"y_test.parquet\"), index=False)"
   ]
  },
  {
   "attachments": {},
   "cell_type": "markdown",
   "metadata": {},
   "source": [
    "# FEATURE ENGINEERING"
   ]
  },
  {
   "attachments": {},
   "cell_type": "markdown",
   "metadata": {},
   "source": [
    "## TARGET COLUMN - LABEL ENCODING\n",
    "\n"
   ]
  },
  {
   "cell_type": "code",
   "execution_count": 11,
   "metadata": {},
   "outputs": [
    {
     "data": {
      "text/plain": [
       "array([0, 0, 0, ..., 1, 0, 0])"
      ]
     },
     "execution_count": 11,
     "metadata": {},
     "output_type": "execute_result"
    }
   ],
   "source": [
    "y_train = np.squeeze(y_train)\n",
    "y_train.shape\n",
    "le = LabelEncoder()\n",
    "le.fit_transform(y_train)"
   ]
  },
  {
   "attachments": {},
   "cell_type": "markdown",
   "metadata": {},
   "source": [
    "## Save the ESTIMATOR"
   ]
  },
  {
   "cell_type": "code",
   "execution_count": 16,
   "metadata": {},
   "outputs": [],
   "source": [
    "label_encoder_estimator_name = config.get('ML', 'label_encoder_estimator_name')\n",
    "label_encoder_estimator_path = os.path.join(config.get('PATH', 'ESTIMATORS_PATH'), label_encoder_estimator_name)\n",
    "os.makedirs(config.get('PATH', 'ESTIMATORS_PATH'), exist_ok=True)\n",
    "\n",
    "with open(label_encoder_estimator_path, 'wb') as fid:\n",
    "    pickle.dump(le, fid)"
   ]
  },
  {
   "cell_type": "markdown",
   "metadata": {},
   "source": [
    "## NUMERICAL COLUMNS ESTIMATOR"
   ]
  },
  {
   "cell_type": "code",
   "execution_count": 46,
   "metadata": {},
   "outputs": [],
   "source": [
    "numerical_lookup_dict = {\n",
    "    \"simple_imputer\": SimpleImputer(strategy=\"mean\"),\n",
    "    \"standard_scaler\": StandardScaler(),\n",
    "    \"min_max_scaler\": MinMaxScaler()\n",
    "}\n",
    "def make_numerical_pipeline(config):\n",
    "    num_proc = make_pipeline()\n",
    "    estimators = config.get('ML', 'numerical_estimators').split(\",\")\n",
    "    try:\n",
    "        for est in estimators:\n",
    "            num_proc.steps.append(numerical_lookup_dict.get(est))\n",
    "    except Exception as e:\n",
    "        print(str(e))\n",
    "        raise Exception\n",
    "    \n",
    "    return num_proc"
   ]
  },
  {
   "cell_type": "markdown",
   "metadata": {},
   "source": [
    "## CATEGORICAL COLUMNS ESTIMATORS"
   ]
  },
  {
   "cell_type": "code",
   "execution_count": 50,
   "metadata": {},
   "outputs": [],
   "source": [
    "categorical_lookup_dict = {\n",
    "    \"one_hot_encoding\": OneHotEncoder(handle_unknown=\"ignore\"),\n",
    "    \"ordinal_encoding\": OrdinalEncoder(handle_unknown=\"use_encoded_value\", unknown_value=-1),\n",
    "    \"target_encoding\": TargetEncoder(min_samples_leaf=5, smoothing=5, cols=categorical_columns),\n",
    "    \"leave_one_out_encoding\": LeaveOneOutEncoder(cols=categorical_columns, sigma=0.05), \n",
    "    \"woe_encoding\": WOEEncoder(cols=categorical_columns, sigma=0.5)\n",
    "}\n",
    "\n",
    "def make_categorical_pipeline(config):\n",
    "    cat_proc = make_pipeline()\n",
    "    estimator = config.get('ML', 'categorical_estimators').split(\",\")\n",
    "    try:\n",
    "        for est in estimator:\n",
    "            cat_proc.steps.append(categorical_lookup_dict.ge(est))\n",
    "    except Exception as e:\n",
    "        print(str(e))\n",
    "        raise Exception\n",
    "    \n",
    "    return cat_proc"
   ]
  },
  {
   "cell_type": "code",
   "execution_count": null,
   "metadata": {},
   "outputs": [],
   "source": []
  }
 ],
 "metadata": {
  "kernelspec": {
   "display_name": "venv",
   "language": "python",
   "name": "python3"
  },
  "language_info": {
   "codemirror_mode": {
    "name": "ipython",
    "version": 3
   },
   "file_extension": ".py",
   "mimetype": "text/x-python",
   "name": "python",
   "nbconvert_exporter": "python",
   "pygments_lexer": "ipython3",
   "version": "3.9.16"
  },
  "orig_nbformat": 4
 },
 "nbformat": 4,
 "nbformat_minor": 2
}
